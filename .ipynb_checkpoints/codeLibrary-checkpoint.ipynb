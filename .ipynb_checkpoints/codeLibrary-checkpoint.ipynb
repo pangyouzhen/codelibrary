{
 "cells": [
  {
   "cell_type": "markdown",
   "metadata": {},
   "source": [
    "# 读取配置文件并作为参数传入"
   ]
  },
  {
   "cell_type": "code",
   "execution_count": 21,
   "metadata": {},
   "outputs": [
    {
     "data": {
      "text/plain": [
       "'127.0.0.1'"
      ]
     },
     "execution_count": 21,
     "metadata": {},
     "output_type": "execute_result"
    }
   ],
   "source": [
    "import configparser\n",
    "cf = configparser.ConfigParser()\n",
    "cf.read(\"db.conf\")\n",
    "db_host = cf.get('db','ip')\n",
    "db_host"
   ]
  },
  {
   "cell_type": "code",
   "execution_count": 28,
   "metadata": {},
   "outputs": [
    {
     "data": {
      "text/plain": [
       "('127.0.0.1', '6379')"
      ]
     },
     "execution_count": 28,
     "metadata": {},
     "output_type": "execute_result"
    }
   ],
   "source": [
    "import configparser\n",
    "cf = configparser.ConfigParser()\n",
    "cf.read(\"db.conf\")\n",
    "\n",
    "db_host = cf._sections\n",
    "\n",
    "def fn(ip,port=9):\n",
    "    return ip,port\n",
    "\n",
    "fn(**db_host[\"db\"])"
   ]
  },
  {
   "cell_type": "markdown",
   "metadata": {},
   "source": [
    "# Flask 封装API"
   ]
  },
  {
   "cell_type": "code",
   "execution_count": null,
   "metadata": {},
   "outputs": [],
   "source": [
    "# curl -X GET 'http://127.0.0.1:8082/reader?username=test'\n",
    "\n",
    "from flask import Flask,request\n",
    "\n",
    "\n",
    "app = Flask(__name__)\n",
    "\n",
    "@app.route(\"/reader\",methods=[\"GET\"])\n",
    "def reader():\n",
    "    username = request.args.get(\"username\")\n",
    "    return username\n",
    "\n",
    "if __name__ == \"__main__\":\n",
    "    app.run(host='0.0.0.0',port=8082,debug=True)"
   ]
  },
  {
   "cell_type": "markdown",
   "metadata": {},
   "source": [
    "# 读取XML文件"
   ]
  },
  {
   "cell_type": "code",
   "execution_count": 14,
   "metadata": {},
   "outputs": [
    {
     "data": {
      "text/plain": [
       "['level1', 'level3']"
      ]
     },
     "execution_count": 14,
     "metadata": {},
     "output_type": "execute_result"
    }
   ],
   "source": [
    "import xml.etree.ElementTree as ET\n",
    "\n",
    "tree = ET.parse(\"test.xml\")\n",
    "root = tree.getroot()\n",
    "\n",
    "all_name = [i.attrib['name'] for i in root.findall('./')]\n",
    "all_name"
   ]
  },
  {
   "cell_type": "markdown",
   "metadata": {},
   "source": [
    "# 一些常用的正则表达式"
   ]
  },
  {
   "cell_type": "code",
   "execution_count": 16,
   "metadata": {},
   "outputs": [],
   "source": [
    "# 去除文字中的所有标点，只保留中文"
   ]
  },
  {
   "cell_type": "markdown",
   "metadata": {},
   "source": [
    "# requests && bs4"
   ]
  },
  {
   "cell_type": "code",
   "execution_count": 18,
   "metadata": {},
   "outputs": [
    {
     "name": "stdout",
     "output_type": "stream",
     "text": [
      "{\"items\":null,\"attrs\":null,\"brands\":[{\"id\":7888,\"pinyin\":\"H\",\"name\":\"海信（Hisense）\",\"logo\":\"//img14.360buyimg.com/popshop/jfs/t19360/352/2305554545/5388/7fed869c/5aefeb9bN1c82297b.jpg\"},{\"id\":5565,\"pinyin\":\"C\",\"name\":\"创维（Skyworth）\",\"logo\":\"//img14.360buyimg.com/popshop/jfs/t1/53478/21/9148/4976/5d68e51dE84132ea9/4dc268e67891cceb.png\"},{\"id\":2505,\"pinyin\":\"T\",\"name\":\"TCL\",\"logo\":\"//img10.360buyimg.com/popshop/jfs/t1/63000/25/8406/2925/5d662e3dEcc56c740/a83f0c21f8055aa0.jpg\"},{\"id\":16538,\"pinyin\":\"S\",\"name\":\"索尼（SONY）\",\"logo\":\"//img11.360buyimg.com/popshop/jfs/t1/175/26/11602/2671/5bce70a1Ecd95c076/4d7f4f80f80c5a1c.jpg\"},{\"id\":20710,\"pinyin\":\"C\",\"name\":\"长虹（CHANGHONG）\",\"logo\":\"//img11.360buyimg.com/popshop/jfs/t17380/273/1313127713/1697/2349a521/5ac43b77N3610f12d.jpg\"},{\"id\":6742,\"pinyin\":\"F\",\"name\":\"飞利浦（PHILIPS）\",\"logo\":\"//img12.360buyimg.com/popshop/jfs/t1/5932/28/11176/6002/5bce822bE4be57b0c/162d6a5b24eb2ab7.jpg\"},{\"id\":10317,\"pinyin\":\"K\",\"name\":\"康佳（KONKA）\",\"logo\":\"//img13.360buyimg.com/popshop/jfs/t1/39450/35/11890/1756/5d8b1ba9E5c839db8/735009863988f8b0.jpg\"},{\"id\":7817,\"pinyin\":\"H\",\"name\":\"海尔（Haier）\",\"logo\":\"//img13.360buyimg.com/popshop/jfs/t21412/118/1184001277/3682/4a88a8cb/5b221dd6N8b93f2ef.jpg\"},{\"id\":16407,\"pinyin\":\"S\",\"name\":\"松下（Panasonic）\",\"logo\":\"//img10.360buyimg.com/popshop/jfs/t1/10606/35/12354/6325/5c78e9ebEf1a1bc4d/94d33301e1fc0753.jpg\"},{\"id\":1528,\"pinyin\":\"L\",\"name\":\"LG\",\"logo\":\"//img12.360buyimg.com/popshop/jfs/t2830/42/1246856630/3519/736447b0/5739678aN679faf0d.jpg\"},{\"id\":41422,\"pinyin\":\"A\",\"name\":\"AOC\",\"logo\":\"//img14.360buyimg.com/popshop/jfs/t1/16653/31/14923/1917/5cac6dcdEec537d75/eab9938d789a71c9.png\"},{\"id\":18139,\"pinyin\":\"X\",\"name\":\"先科（SAST）\",\"logo\":\"//img12.360buyimg.com/popshop/jfs/t1/5022/26/11253/5925/5bce6ed6Edb8a8f56/f7311d46c50e4628.jpg\"},{\"id\":297872,\"pinyin\":\"W\",\"name\":\"沃科玛（WOKEMA）\",\"logo\":\"\"},{\"id\":16506,\"pinyin\":\"S\",\"name\":\"索爱（soaiy）\",\"logo\":\"//img10.360buyimg.com/popshop/jfs/t2038/259/119166510/17973/32f59905/55efe697Naf90dce5.jpg\"},{\"id\":378497,\"pinyin\":\"F\",\"name\":\"妃仕顿\",\"logo\":\"\"},{\"id\":465013,\"pinyin\":\"C\",\"name\":\"CHLTTV\",\"logo\":\"\"},{\"id\":3659,\"pinyin\":\"A\",\"name\":\"奥克斯（AUX）\",\"logo\":\"//img13.360buyimg.com/popshop/jfs/t2842/162/494991040/18735/bf7c2c6/5715fc65Na8c86862.jpg\"},{\"id\":252809,\"pinyin\":\"F\",\"name\":\"凤瑞\",\"logo\":\"\"}],\"pubs\":null,\"brandsLen\":18,\"pubsLen\":0,\"total_count\":0,\"summary\":{\"page\":{\"PageCount\":0,\"PageIndex\":0,\"PageSize\":60},\"real_count\":0,\"filt_type\":[{ \"condition\":\"88234-OLED::4155-电视类型\",\"name\":\"expand_name\",\"attrs\":[{\"id\":4155,\"name\":\"电视类型\",\"value_id\":\"88234;97865;100812;88644;122030;76344;110018;110019;92263;77070;85084\",\"value_name\":\"OLED;全面屏;人工智能;大屏;智慧屏;超薄;4K超清;量子点;曲面;激光电视;商业显示\",\"value_icon\":\";;;;;;;;;;\",\"attr_infos\":null}]}],\"cate_infos\":{\"cat1_id\":737,\"cat1_name\":\"家用电器\",\"cat2_id\":794,\"cat2_name\":\"大 家 电\",\"cat3_id\":798,\"cat3_name\":\"平板电视\",\"parent_id\":794,\"last_cat_id\":798,\"last_cat_name\":\"平板电视\",\"level_id\":3}},\"cat_dic\":{\"cat_id\":798,\"is_small_pic_show\":0,\"attr_folder\":\"0\",\"price_attr_id\":3107,\"place_id\":0,\"score_rank\":1,\"templ_type\":0,\"tag_types\":\"423629\",\"show_type\":1,\"glb_type\":0,\"ad_set\":0,\"hotsale\":0,\"cdn_cache\":0,\"brand_logo\":1,\"isflytocart\":0,\"cat_type\":1,\"spureplace\":0,\"spu_hover\":0,\"newurl\":\"\",\"c_zhishu\":0,\"listaos\":\"4805,4155,244\",\"isNewProduct\":0,\"jdzy_icon\":0,\"yunfeix_icon\":0},\"pay_after\":\"\",\"no_close\":\"\",\"limit_ids\":\"\"}\n"
     ]
    }
   ],
   "source": [
    "import requests\n",
    "\n",
    "url = \"https://list.jd.com/list.html\"\n",
    "\n",
    "querystring = {\"cat\":\"737,794,798\",\"ev\":\"4155_88234\",\"sort\":\"sort_rank_asc\",\"trans\":\"1\",\"md\":\"1\",\"my\":\"list_brand\"}\n",
    "\n",
    "headers = {\n",
    "    'cache-control': \"no-cache\",\n",
    "    'Postman-Token': \"481a8a84-dc8e-4f7b-9525-7917c5bf5f0f\"\n",
    "    }\n",
    "\n",
    "response = requests.request(\"GET\", url, headers=headers, params=querystring)\n",
    "\n",
    "print(response.text)"
   ]
  },
  {
   "cell_type": "markdown",
   "metadata": {},
   "source": [
    "# pathlib"
   ]
  },
  {
   "cell_type": "code",
   "execution_count": 23,
   "metadata": {},
   "outputs": [
    {
     "name": "stdout",
     "output_type": "stream",
     "text": [
      "db.conf\n"
     ]
    }
   ],
   "source": [
    "from pathlib import Path\n",
    "Path.cwd()\n",
    "_ = Path('.')\n",
    "for i in _.iterdir():\n",
    "    if i.match(\"*conf\"):\n",
    "        print(i)"
   ]
  },
  {
   "cell_type": "markdown",
   "metadata": {},
   "source": [
    "## md5"
   ]
  },
  {
   "cell_type": "code",
   "execution_count": 10,
   "metadata": {},
   "outputs": [],
   "source": [
    "import hashlib"
   ]
  },
  {
   "cell_type": "code",
   "execution_count": 12,
   "metadata": {},
   "outputs": [
    {
     "data": {
      "text/plain": [
       "'a7bac2239fcdcb3a067903d8077c4a07'"
      ]
     },
     "execution_count": 12,
     "metadata": {},
     "output_type": "execute_result"
    }
   ],
   "source": [
    "hashlib.md5(\"中文\".encode(\"utf-8\")).hexdigest()"
   ]
  },
  {
   "cell_type": "markdown",
   "metadata": {},
   "source": [
    "## namedtuples"
   ]
  },
  {
   "cell_type": "markdown",
   "metadata": {},
   "source": [
    "代替一些没有methods的类"
   ]
  },
  {
   "cell_type": "code",
   "execution_count": 29,
   "metadata": {},
   "outputs": [],
   "source": [
    "from collections import namedtuple"
   ]
  },
  {
   "cell_type": "code",
   "execution_count": 30,
   "metadata": {},
   "outputs": [],
   "source": [
    "Features = namedtuple(\"Features\",['age','gender',\"name\"])"
   ]
  },
  {
   "cell_type": "code",
   "execution_count": 31,
   "metadata": {},
   "outputs": [
    {
     "data": {
      "text/plain": [
       "22"
      ]
     },
     "execution_count": 31,
     "metadata": {},
     "output_type": "execute_result"
    }
   ],
   "source": [
    "row = Features(age=22,gender=\"male\",name=\"alex\")\n",
    "row.age"
   ]
  },
  {
   "cell_type": "code",
   "execution_count": null,
   "metadata": {},
   "outputs": [],
   "source": []
  }
 ],
 "metadata": {
  "kernelspec": {
   "display_name": "Python [conda env:test]",
   "language": "python",
   "name": "conda-env-test-py"
  },
  "language_info": {
   "codemirror_mode": {
    "name": "ipython",
    "version": 3
   },
   "file_extension": ".py",
   "mimetype": "text/x-python",
   "name": "python",
   "nbconvert_exporter": "python",
   "pygments_lexer": "ipython3",
   "version": "3.6.2"
  }
 },
 "nbformat": 4,
 "nbformat_minor": 4
}
