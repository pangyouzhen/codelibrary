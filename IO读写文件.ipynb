{
 "cells": [
  {
   "cell_type": "markdown",
   "metadata": {},
   "source": [
    "# 读取配置文件并作为参数传入"
   ]
  },
  {
   "cell_type": "code",
   "execution_count": null,
   "metadata": {},
   "outputs": [],
   "source": [
    "import configparser\n",
    "cf = configparser.ConfigParser()\n",
    "cf.read(\"db.conf\")\n",
    "db_host = cf.get('db','ip')\n",
    "db_host"
   ]
  },
  {
   "cell_type": "code",
   "execution_count": null,
   "metadata": {},
   "outputs": [],
   "source": [
    "import configparser\n",
    "cf = configparser.ConfigParser()\n",
    "cf.read(\"db.conf\")\n",
    "\n",
    "db_host = cf._sections\n",
    "\n",
    "def fn(ip,port=9):\n",
    "    return ip,port\n",
    "\n",
    "fn(**db_host[\"db\"])"
   ]
  },
  {
   "cell_type": "markdown",
   "metadata": {},
   "source": [
    "# 读取XML文件"
   ]
  },
  {
   "cell_type": "code",
   "execution_count": null,
   "metadata": {},
   "outputs": [],
   "source": [
    "import xml.etree.ElementTree as ET\n",
    "\n",
    "tree = ET.parse(\"test.xml\")\n",
    "root = tree.getroot()\n",
    "\n",
    "all_name = [i.attrib['name'] for i in root.findall('./')]\n",
    "all_name"
   ]
  }
 ],
 "metadata": {
  "kernelspec": {
   "display_name": "Python 3",
   "language": "python",
   "name": "python3"
  },
  "language_info": {
   "codemirror_mode": {
    "name": "ipython",
    "version": 3
   },
   "file_extension": ".py",
   "mimetype": "text/x-python",
   "name": "python",
   "nbconvert_exporter": "python",
   "pygments_lexer": "ipython3",
   "version": "3.7.4"
  }
 },
 "nbformat": 4,
 "nbformat_minor": 2
}
