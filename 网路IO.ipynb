{
 "cells": [
  {
   "cell_type": "markdown",
   "metadata": {},
   "source": [
    "# 异步网络"
   ]
  },
  {
   "cell_type": "code",
   "execution_count": null,
   "metadata": {},
   "outputs": [],
   "source": [
    "import asyncio, aiohttp\n",
    "from time import time\n",
    "\n",
    "sema = asyncio.BoundedSemaphore(10)\n",
    "# 限制线程个数，防止崩溃\n",
    "\n",
    "async def fetch_async(url):\n",
    "    with (await sema):\n",
    "        try:\n",
    "            async with aiohttp.ClientSession() as session:\n",
    "                # 协程嵌套，只需要处理最外层协程即可fetch_async\n",
    "                async with session.get(url) as resp:\n",
    "                    html = (await resp.text())\n",
    "                    # 因为这里使用到了await关键字，实现异步，所有他上面的函数体需要声明为异步async\n",
    "        except Exception as e:\n",
    "            print(e)\n",
    "    return html\n",
    "\n",
    "\n",
    "if __name__ == '__main__':\n",
    "    start_time = time()\n",
    "    url = \"http://httpbin.org/get\"\n",
    "    tasks = []\n",
    "    for i in range(100):\n",
    "        tasks.append(fetch_async(url))\n",
    "    # tasks = [fetch_async('http://www.baidu.com/'), fetch_async('http://www.cnblogs.com/ssyfj/')]\n",
    "    event_loop = asyncio.get_event_loop()\n",
    "    results = event_loop.run_until_complete(asyncio.gather(*tasks))\n",
    "    for i in results:\n",
    "        # print(i[\"code\"])\n",
    "        print(i)\n",
    "    event_loop.close()\n",
    "    print(f'async time {time() - start_time}')\n"
   ]
  },
  {
   "cell_type": "code",
   "execution_count": null,
   "metadata": {},
   "outputs": [],
   "source": [
    "import aiohttp,asyncio\n",
    "\n",
    "\n",
    "sem = asyncio.Semaphore(10)\n",
    "\n",
    "kids = [1,2]\n",
    "\n",
    "headers = {}\n",
    "async def close_id(url,headers):\n",
    "    async with sem:\n",
    "        async with aiohttp.ClientSession() as session:\n",
    "            asyncio with session.post(url,headers=headers) as resp:\n",
    "                res = await resp.text()\n",
    "                return res\n",
    "            \n",
    "init_url =\"www.baidu.com/%s\"\n",
    "tasks = []\n",
    "for i in kids:\n",
    "    tasks.append(close_id(init_url %i,headers = headers))\n",
    "\n",
    "if __name__ == \"__main__\":\n",
    "    loop = asyncio.get_event_loop()\n",
    "    result = loop.run_until_complete(asyncio.gather(*tasks))\n",
    "    for i in result:\n",
    "        temp = json.loads(i)\n",
    "        print(temp[\"obj\"][\"tets\"])\n",
    "        "
   ]
  },
  {
   "cell_type": "markdown",
   "metadata": {},
   "source": [
    "# 阻塞式"
   ]
  },
  {
   "cell_type": "code",
   "execution_count": null,
   "metadata": {},
   "outputs": [],
   "source": [
    "import requests\n",
    "\n",
    "url = \"https://list.jd.com/list.html\"\n",
    "\n",
    "querystring = {\"cat\":\"737,794,798\",\"ev\":\"4155_88234\",\"sort\":\"sort_rank_asc\",\"trans\":\"1\",\"md\":\"1\",\"my\":\"list_brand\"}\n",
    "\n",
    "headers = {\n",
    "    'cache-control': \"no-cache\",\n",
    "    'Postman-Token': \"481a8a84-dc8e-4f7b-9525-7917c5bf5f0f\"\n",
    "    }\n",
    "\n",
    "response = requests.request(\"GET\", url, headers=headers, params=querystring)\n",
    "\n",
    "print(response.text)"
   ]
  }
 ],
 "metadata": {
  "kernelspec": {
   "display_name": "Python 3",
   "language": "python",
   "name": "python3"
  },
  "language_info": {
   "codemirror_mode": {
    "name": "ipython",
    "version": 3
   },
   "file_extension": ".py",
   "mimetype": "text/x-python",
   "name": "python",
   "nbconvert_exporter": "python",
   "pygments_lexer": "ipython3",
   "version": "3.7.4"
  }
 },
 "nbformat": 4,
 "nbformat_minor": 2
}
